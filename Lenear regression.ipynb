{
 "cells": [
  {
   "cell_type": "markdown",
   "metadata": {},
   "source": [
    "# 线性回归"
   ]
  },
  {
   "cell_type": "code",
   "execution_count": 1,
   "metadata": {},
   "outputs": [],
   "source": [
    "import torch\n",
    "import random\n",
    "from matplotlib import pyplot as plt"
   ]
  },
  {
   "cell_type": "markdown",
   "metadata": {},
   "source": [
    "## 任务一：生成数据集"
   ]
  },
  {
   "cell_type": "code",
   "execution_count": 2,
   "metadata": {},
   "outputs": [],
   "source": [
    "# 生成带有噪声的线性模型数据集\n",
    "def gen_data(w, b, num_examples):\n",
    "    X = torch.normal(0, 1, (num_examples, len(w)))\n",
    "    y = torch.matmul(X, w) + b\n",
    "    y += torch.normal(0, 0.01, y.shape)\n",
    "    return X, y.reshape((-1, 1))\n",
    "\n",
    "w_real = torch.tensor([3.7, -2.0])\n",
    "b_real = 0.5\n",
    "features, labels = gen_data(w_real, b_real, 1000)"
   ]
  },
  {
   "cell_type": "markdown",
   "metadata": {},
   "source": [
    "请尝试使用`matplotlib`包，画出生成数据第一个特征的散点图，代码请在下方代码块完成。（提示：第一个特征为`features[:, 0]`）"
   ]
  },
  {
   "cell_type": "code",
   "execution_count": 3,
   "metadata": {},
   "outputs": [],
   "source": [
    "# ----------使用Matplotlib画散点图----------\n",
    "\n",
    "\n",
    "# -----------------------------------------"
   ]
  },
  {
   "cell_type": "markdown",
   "metadata": {},
   "source": [
    "## 任务二：手工实现梯度下降算法\n",
    "### 定义一个数据集迭代器"
   ]
  },
  {
   "cell_type": "code",
   "execution_count": 4,
   "metadata": {},
   "outputs": [],
   "source": [
    "# 使用python的generator，构造一个生成数据集的迭代器\n",
    "def data_iter(batch_size, features, labels):\n",
    "    num_examples = len(features)\n",
    "    indices = list(range(num_examples))\n",
    "    random.shuffle(indices)\n",
    "    for i in range(0, num_examples, batch_size):\n",
    "        batch_indices = torch.tensor(\n",
    "            indices[i: min(i + batch_size, num_examples)])\n",
    "        yield features[batch_indices], labels[batch_indices]"
   ]
  },
  {
   "cell_type": "markdown",
   "metadata": {},
   "source": [
    "### 定义损失函数\n",
    "\n",
    "损失函数使用均方误差，即：$\\frac{1}{N}\\sum_{i=1}^N\\frac{1}{2}(\\hat{y}^{(i)}-y^{(i)})^2$。\n",
    "\n",
    "请根据上述损失函数的定义，写出对应的Python代码，在下方的代码块中完成。"
   ]
  },
  {
   "cell_type": "code",
   "execution_count": 5,
   "metadata": {},
   "outputs": [],
   "source": [
    "def square_loss(y_hat, y):\n",
    "    # ---------计算均方损失---------\n",
    "\n",
    "    pass\n",
    "\n",
    "    # ---------计算均方损失---------"
   ]
  },
  {
   "cell_type": "markdown",
   "metadata": {},
   "source": [
    "### 定义一个线性模型"
   ]
  },
  {
   "cell_type": "code",
   "execution_count": 4,
   "metadata": {},
   "outputs": [],
   "source": [
    "def linearModel(X, w, b):\n",
    "    return torch.matmul(X, w) + b"
   ]
  },
  {
   "cell_type": "markdown",
   "metadata": {},
   "source": [
    "### 定义优化算法\n",
    "\n",
    "采用小批量随机梯度下降算法。"
   ]
  },
  {
   "cell_type": "code",
   "execution_count": 5,
   "metadata": {},
   "outputs": [],
   "source": [
    "def sgd(params, lr):\n",
    "    with torch.no_grad():\n",
    "        for p in params:\n",
    "            p -= lr * p.grad\n",
    "            p.grad.zero_()"
   ]
  },
  {
   "cell_type": "markdown",
   "metadata": {},
   "source": [
    "## 训练\n",
    "\n",
    "- 随机初始化模型参数，重复以下步骤：\n",
    "- 计算梯度 $\\bm g$；\n",
    "- 更新参数 $(\\bm w,b) \\leftarrow (\\bm w, b) - \\alpha \\bm g$，其中 $\\alpha$ 为学习率。"
   ]
  },
  {
   "cell_type": "code",
   "execution_count": null,
   "metadata": {},
   "outputs": [],
   "source": [
    "# 定义超参数\n",
    "lr = 0.003\n",
    "num_epochs = 3\n",
    "batch_size = 10\n",
    "\n",
    "# 初始化模型参数\n",
    "w = torch.normal(0, 0.01, (2,1), requires_grad=True)\n",
    "b = torch.zeros(1, requires_grad=True)\n",
    "\n",
    "# 开始迭代\n",
    "iteration = 0\n",
    "for epoch in range(num_epochs):\n",
    "    for X, y in data_iter(batch_size, features, labels):\n",
    "        loss = square_loss(linearModel(X, w, b), y)\n",
    "        loss.backward()\n",
    "        sgd([w,b], lr)\n",
    "        iteration += 1\n",
    "        print(f'epoch {epoch+1}, iteraion {iteration}, loss {loss}')\n",
    "\n",
    "print(f'估计的w={w.detach().numpy()}')\n",
    "print(f'估计的b={b.detach().numpy()}')"
   ]
  }
 ],
 "metadata": {
  "kernelspec": {
   "display_name": "Python 3",
   "language": "python",
   "name": "python3"
  },
  "language_info": {
   "codemirror_mode": {
    "name": "ipython",
    "version": 3
   },
   "file_extension": ".py",
   "mimetype": "text/x-python",
   "name": "python",
   "nbconvert_exporter": "python",
   "pygments_lexer": "ipython3",
   "version": "3.10.11"
  },
  "orig_nbformat": 4
 },
 "nbformat": 4,
 "nbformat_minor": 2
}
